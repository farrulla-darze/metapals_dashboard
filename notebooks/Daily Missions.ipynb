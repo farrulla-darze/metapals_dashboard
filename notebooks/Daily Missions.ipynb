{
 "cells": [
  {
   "cell_type": "code",
   "execution_count": 4,
   "id": "24d812b2",
   "metadata": {},
   "outputs": [],
   "source": [
    "from pymongo import MongoClient\n",
    "import polars as pl\n",
    "\n",
    "from datetime import datetime\n",
    "import pprint \n",
    "from bson.objectid import ObjectId"
   ]
  },
  {
   "cell_type": "code",
   "execution_count": 5,
   "id": "4b50039f",
   "metadata": {},
   "outputs": [],
   "source": [
    "# Connect to the MongoDB server\n",
    "client = MongoClient('mongodb://localhost:27017/')\n",
    "\n",
    "db = client['event_database']\n",
    "collection = db['events']"
   ]
  },
  {
   "cell_type": "code",
   "execution_count": 6,
   "id": "cb0aea03",
   "metadata": {},
   "outputs": [
    {
     "name": "stdout",
     "output_type": "stream",
     "text": [
      "Databases:  ['admin', 'config', 'event_database', 'local', 'test_database']\n",
      "Collections:  ['events']\n"
     ]
    }
   ],
   "source": [
    "# Checkout databases and collections\n",
    "print(\"Databases: \",client.list_database_names())\n",
    "print(\"Collections: \",db.list_collection_names())"
   ]
  },
  {
   "cell_type": "code",
   "execution_count": null,
   "id": "3cb35656",
   "metadata": {},
   "outputs": [],
   "source": [
    "# Delete a database\n",
    "client.drop_database('')"
   ]
  },
  {
   "cell_type": "markdown",
   "id": "1afe99e4",
   "metadata": {},
   "source": [
    "# 2. Query\n",
    "- Define events of interest\n",
    "- Select a date range\n",
    "- query body\n",
    "- Discover data type"
   ]
  },
  {
   "cell_type": "code",
   "execution_count": 7,
   "id": "c4fedf5d",
   "metadata": {},
   "outputs": [],
   "source": [
    "# Define the events of interest\n",
    "events_of_interest = ['Picking Up Dark Matter', 'Sleeping', 'Patting',\n",
    "       'Claim Daily Rewards', 'Waking Up', 'Feeding', 'Visit Sanctuary',\n",
    "       'Shop Transaction', 'Calling Pet', 'Swap Wearable',\n",
    "       'Equip Wearable', 'Detach Wearable']"
   ]
  },
  {
   "cell_type": "code",
   "execution_count": 19,
   "id": "e0102394",
   "metadata": {},
   "outputs": [],
   "source": [
    "# Define the query pipeline\n",
    "pipeline = [\n",
    "    {\n",
    "        '$match': {\n",
    "            'event': {'$in': ['Claim Daily Rewards']}\n",
    "        }\n",
    "    },\n",
    "    {\n",
    "        '$group': {\n",
    "            '_id': '$properties.distinct_id',\n",
    "            'count': {'$sum': 1}\n",
    "        }\n",
    "    },\n",
    "]\n"
   ]
  },
  {
   "cell_type": "code",
   "execution_count": 38,
   "id": "67b1d90a",
   "metadata": {},
   "outputs": [
    {
     "name": "stdout",
     "output_type": "stream",
     "text": [
      "Unique Ids: 304\n"
     ]
    }
   ],
   "source": [
    "# Assuming you have already executed the pipeline and obtained the result\n",
    "result = list(collection.aggregate(pipeline))\n",
    "\n",
    "# Create the Polars DataFrame\n",
    "df = pl.DataFrame(result)\n",
    "df = df.sort(\"count\", descending=True)\n",
    "# Print the modified DataFrame\n",
    "print(f\"Unique Ids: {df.shape[0]}\")"
   ]
  },
  {
   "cell_type": "code",
   "execution_count": 40,
   "id": "f72625cc",
   "metadata": {},
   "outputs": [
    {
     "name": "stdout",
     "output_type": "stream",
     "text": [
      "shape: (10, 2)\n",
      "┌───────────────────────────────────┬───────┐\n",
      "│ _id                               ┆ count │\n",
      "│ ---                               ┆ ---   │\n",
      "│ str                               ┆ i64   │\n",
      "╞═══════════════════════════════════╪═══════╡\n",
      "│ c4ed373b-a956-4120-97b5-e70eb907… ┆ 2     │\n",
      "│ 3d994231-d561-4a43-b999-7cca20f3… ┆ 2     │\n",
      "│ 4864ca5d-c47b-4de6-95ed-7ce3e7ef… ┆ 2     │\n",
      "│ 7c273de3-61e8-4eff-84ba-957e5533… ┆ 2     │\n",
      "│ …                                 ┆ …     │\n",
      "│ b83bc8cf-4f58-4bd6-88b7-54a605a9… ┆ 2     │\n",
      "│ 9a6b6ee5-151f-437f-ab9a-52ee31b6… ┆ 2     │\n",
      "│ 6f3845e6-8266-4ac0-8da6-a0313ebb… ┆ 2     │\n",
      "│ a6b6411d-b3de-49f6-98f3-c12e2830… ┆ 2     │\n",
      "└───────────────────────────────────┴───────┘\n"
     ]
    }
   ],
   "source": [
    "print(df.head(10))"
   ]
  },
  {
   "cell_type": "code",
   "execution_count": null,
   "id": "8d2b65d2",
   "metadata": {},
   "outputs": [],
   "source": []
  }
 ],
 "metadata": {
  "kernelspec": {
   "display_name": "dash",
   "language": "python",
   "name": "dash"
  },
  "language_info": {
   "codemirror_mode": {
    "name": "ipython",
    "version": 3
   },
   "file_extension": ".py",
   "mimetype": "text/x-python",
   "name": "python",
   "nbconvert_exporter": "python",
   "pygments_lexer": "ipython3",
   "version": "3.10.3"
  }
 },
 "nbformat": 4,
 "nbformat_minor": 5
}
