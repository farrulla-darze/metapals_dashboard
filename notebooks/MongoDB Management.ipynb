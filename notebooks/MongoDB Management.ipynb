{
 "cells": [
  {
   "cell_type": "code",
   "execution_count": 2,
   "id": "24d812b2",
   "metadata": {},
   "outputs": [],
   "source": [
    "from pymongo import MongoClient\n",
    "import pandas as pd\n",
    "\n",
    "from datetime import datetime\n",
    "import pprint \n",
    "from bson.objectid import ObjectId"
   ]
  },
  {
   "cell_type": "code",
   "execution_count": 8,
   "id": "4b50039f",
   "metadata": {},
   "outputs": [],
   "source": [
    "# Connect to the MongoDB server\n",
    "client = MongoClient('mongodb://localhost:27017/')\n",
    "\n",
    "db = client['event_database']\n",
    "collection = db['events']"
   ]
  },
  {
   "cell_type": "code",
   "execution_count": 9,
   "id": "cb0aea03",
   "metadata": {},
   "outputs": [
    {
     "name": "stdout",
     "output_type": "stream",
     "text": [
      "Databases:  ['admin', 'config', 'event_database', 'local', 'test_database']\n",
      "Collections:  ['events']\n"
     ]
    }
   ],
   "source": [
    "# Checkout databases and collections\n",
    "print(\"Databases: \",client.list_database_names())\n",
    "print(\"Collections: \",db.list_collection_names())"
   ]
  },
  {
   "cell_type": "code",
   "execution_count": null,
   "id": "3cb35656",
   "metadata": {},
   "outputs": [],
   "source": [
    "# Delete a database\n",
    "client.drop_database('')"
   ]
  },
  {
   "cell_type": "markdown",
   "id": "1afe99e4",
   "metadata": {},
   "source": [
    "# 2. Query\n",
    "- Define events of interest\n",
    "- Select a date range\n",
    "- query body\n",
    "- Discover data type"
   ]
  },
  {
   "cell_type": "code",
   "execution_count": 13,
   "id": "c4fedf5d",
   "metadata": {},
   "outputs": [
    {
     "name": "stdout",
     "output_type": "stream",
     "text": [
      "{'event': {'$in': ['Picking Up Dark Matter', 'Sleeping', 'Patting', 'Claim Daily Rewards', 'Waking Up', 'Feeding', 'Visit Sanctuary', 'Shop Transaction', 'Calling Pet', 'Swap Wearable', 'Equip Wearable', 'Detach Wearable']}, 'properties.created_at': '2023-06-20T07:16:49'}\n"
     ]
    }
   ],
   "source": [
    "# Define the events of interest\n",
    "events_of_interest = ['Picking Up Dark Matter', 'Sleeping', 'Patting',\n",
    "       'Claim Daily Rewards', 'Waking Up', 'Feeding', 'Visit Sanctuary',\n",
    "       'Shop Transaction', 'Calling Pet', 'Swap Wearable',\n",
    "       'Equip Wearable', 'Detach Wearable']\n",
    "\n",
    "# Define the specific date you want to retrieve data from\n",
    "specific_date = '2023-05-31'\n",
    "\n",
    "# Convert the specific date to a datetime object\n",
    "specific_datetime = datetime.strptime(specific_date, '%Y-%m-%d')\n",
    "\n",
    "# Fetch the data from MongoDB with specific date and events of interest\n",
    "query = {\n",
    "    \"event\": {\"$in\": events_of_interest},\n",
    "    \"properties.created_at\": '2023-06-20T07:16:49',\n",
    "    }\n",
    "\n",
    "print(query)"
   ]
  },
  {
   "cell_type": "markdown",
   "id": "c7058e7c",
   "metadata": {},
   "source": [
    "### Find out the data type"
   ]
  },
  {
   "cell_type": "code",
   "execution_count": 14,
   "id": "87192b0a",
   "metadata": {},
   "outputs": [
    {
     "name": "stdout",
     "output_type": "stream",
     "text": [
      "Key: _id Value: 6492393b1b852c78ed17cabb, Type: <class 'bson.objectid.ObjectId'>\n",
      "Key: event Value: Patting, Type: <class 'str'>\n",
      "Key: time Value: 1687245409, Type: <class 'int'>\n",
      "Key: distinct_id Value: 5fda86a5-0d49-4128-823f-632a1c8dbceb, Type: <class 'str'>\n",
      "Key: $insert_id Value: ckjCfynkhqcaCjkkeBkiohCnvgttaepAwzky, Type: <class 'str'>\n",
      "Key: $mp_api_endpoint Value: api.mixpanel.com, Type: <class 'str'>\n",
      "Key: $mp_api_timestamp_ms Value: 1687216609436, Type: <class 'bson.int64.Int64'>\n",
      "Key: created_at Value: 2023-06-20T07:16:49, Type: <class 'str'>\n",
      "Key: mp_lib Value: php, Type: <class 'str'>\n",
      "Key: mp_processing_time_ms Value: 1687216609449, Type: <class 'bson.int64.Int64'>\n"
     ]
    }
   ],
   "source": [
    "# Retrieve data from MongoDB\n",
    "data = collection.find(query).limit(1)\n",
    "#print(\"Number of documents retrieved:\", len(data))\n",
    "#df = pd.DataFrame(list(collection.find(query)))\n",
    "\n",
    "# Extract properties into new columns\n",
    "#data = pd.concat([data.drop('properties', axis=1),\n",
    "                #data['properties'].apply(pd.Series)], axis=1)\n",
    "    \n",
    "def iterate_dict(dictionary):\n",
    "    for key, value in dictionary.items():\n",
    "        if isinstance(value, dict):\n",
    "            iterate_dict(value)\n",
    "        else: \n",
    "            value_type = type(value)\n",
    "            print(f\"Key: {key} Value: {value}, Type: {value_type}\")\n",
    "    \n",
    "for document in data:\n",
    "    #pprint.pprint(document)\n",
    "    iterate_dict(document)"
   ]
  },
  {
   "cell_type": "markdown",
   "id": "a652f0c2",
   "metadata": {},
   "source": [
    "### Count Event Occurances"
   ]
  },
  {
   "cell_type": "code",
   "execution_count": 16,
   "id": "b9548c38",
   "metadata": {},
   "outputs": [
    {
     "data": {
      "text/plain": [
       "{'Picking Up Dark Matter': 444111,\n",
       " 'Sleeping': 37943,\n",
       " 'Patting': 795488,\n",
       " 'Claim Daily Rewards': 323,\n",
       " 'Waking Up': 65375,\n",
       " 'Feeding': 99258,\n",
       " 'Visit Sanctuary': 495,\n",
       " 'Shop Transaction': 850,\n",
       " 'Calling Pet': 47,\n",
       " 'Swap Wearable': 1795,\n",
       " 'Equip Wearable': 1713,\n",
       " 'Detach Wearable': 876}"
      ]
     },
     "execution_count": 16,
     "metadata": {},
     "output_type": "execute_result"
    }
   ],
   "source": [
    "def get_event_count(events: list):\n",
    "    dictionary = {}\n",
    "    for event in events:\n",
    "        query = {\n",
    "            \"event\": event\n",
    "        }\n",
    "        response = collection.count_documents(query)\n",
    "        \n",
    "        # Add the result to the dictionary\n",
    "        dictionary[event] = response\n",
    "    return dictionary\n",
    "        \n",
    "event_counts = get_event_count(events_of_interest)\n",
    "event_counts"
   ]
  },
  {
   "cell_type": "markdown",
   "id": "89895c01",
   "metadata": {},
   "source": [
    "## Query by *_id*"
   ]
  },
  {
   "cell_type": "code",
   "execution_count": 35,
   "id": "e8a9f032",
   "metadata": {},
   "outputs": [
    {
     "name": "stdout",
     "output_type": "stream",
     "text": [
      "None\n"
     ]
    }
   ],
   "source": [
    "# Getting a collection through ObjectId\n",
    "def get(obj_id):\n",
    "    document = collection.find_one({'_id': ObjectId(obj_id)})\n",
    "    \n",
    "res = get(ObjectId('6492393b1b852c78ed17cabb'))\n",
    "print(res)"
   ]
  },
  {
   "cell_type": "code",
   "execution_count": 7,
   "id": "264baf1a",
   "metadata": {},
   "outputs": [
    {
     "name": "stdout",
     "output_type": "stream",
     "text": [
      "Key: _id Value: 64945bde12041f115240297a, Type: <class 'bson.objectid.ObjectId'>\n",
      "Key: event Value: Patting, Type: <class 'str'>\n",
      "Key: time Value: 1687245409, Type: <class 'int'>\n",
      "Key: distinct_id Value: 5fda86a5-0d49-4128-823f-632a1c8dbceb, Type: <class 'str'>\n",
      "Key: $insert_id Value: ckjCfynkhqcaCjkkeBkiohCnvgttaepAwzky, Type: <class 'str'>\n",
      "Key: $mp_api_endpoint Value: api.mixpanel.com, Type: <class 'str'>\n",
      "Key: $mp_api_timestamp_ms Value: 1687216609436, Type: <class 'bson.int64.Int64'>\n",
      "Key: created_at Value: 2023-06-20T07:16:49, Type: <class 'str'>\n",
      "Key: mp_lib Value: php, Type: <class 'str'>\n",
      "Key: mp_processing_time_ms Value: 1687216609449, Type: <class 'bson.int64.Int64'>\n"
     ]
    }
   ],
   "source": [
    "# Retrieve data from MongoDB\n",
    "data = collection.find(query).limit(1)\n",
    "#print(\"Number of documents retrieved:\", len(data))\n",
    "#df = pd.DataFrame(list(collection.find(query)))\n",
    "\n",
    "# Extract properties into new columns\n",
    "#data = pd.concat([data.drop('properties', axis=1),\n",
    "                #data['properties'].apply(pd.Series)], axis=1)\n",
    "    \n",
    "def iterate_dict(dictionary):\n",
    "    for key, value in dictionary.items():\n",
    "        if isinstance(value, dict):\n",
    "            iterate_dict(value)\n",
    "        else: \n",
    "            value_type = type(value)\n",
    "            print(f\"Key: {key} Value: {value}, Type: {value_type}\")\n",
    "    \n",
    "for document in data:\n",
    "    #pprint.pprint(document)\n",
    "    iterate_dict(document)"
   ]
  },
  {
   "cell_type": "code",
   "execution_count": null,
   "id": "f72625cc",
   "metadata": {},
   "outputs": [],
   "source": []
  }
 ],
 "metadata": {
  "kernelspec": {
   "display_name": "metapals_dash",
   "language": "python",
   "name": "metapals_dash"
  },
  "language_info": {
   "codemirror_mode": {
    "name": "ipython",
    "version": 3
   },
   "file_extension": ".py",
   "mimetype": "text/x-python",
   "name": "python",
   "nbconvert_exporter": "python",
   "pygments_lexer": "ipython3",
   "version": "3.9.7"
  }
 },
 "nbformat": 4,
 "nbformat_minor": 5
}
